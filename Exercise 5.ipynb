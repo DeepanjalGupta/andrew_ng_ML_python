{
 "cells": [
  {
   "cell_type": "code",
   "execution_count": 1,
   "metadata": {},
   "outputs": [],
   "source": [
    "%matplotlib inline\n",
    "import numpy as np\n",
    "import pandas as pd\n",
    "import random\n",
    "\n",
    "import matplotlib.pyplot as plt\n",
    "import scipy.io #Used to load the OCTAVE *.mat files\n",
    "from scipy.special import expit\n",
    "from scipy import optimize\n",
    "from sklearn import preprocessing\n"
   ]
  },
  {
   "cell_type": "code",
   "execution_count": 2,
   "metadata": {},
   "outputs": [],
   "source": [
    "data = scipy.io.loadmat('/Users/deepanjal.gupta/Documents/Learning/Stanford Machine Learning- Andrew Ng/Week 6/machine-learning-ex5/ex5/ex5data1.mat')\n",
    "\n",
    "X =   data ['X']    \n",
    "Xtest = data ['Xtest']  \n",
    "Xval = data ['Xval']  \n",
    "\n",
    "X = np.insert(X,0,1,axis=1)\n",
    "Xtest = np.insert(Xtest,0,1,axis=1)\n",
    "Xval = np.insert(Xval,0,1,axis=1)\n",
    "\n",
    "y = data ['y']  \n",
    "ytest = data ['ytest']  \n",
    "yval = data ['yval']  \n",
    "\n",
    "m = X.shape[0]\n",
    "input_lambda = 1\n",
    "\n",
    "theta = np.array((1,1))"
   ]
  },
  {
   "cell_type": "code",
   "execution_count": 3,
   "metadata": {},
   "outputs": [
    {
     "name": "stdout",
     "output_type": "stream",
     "text": [
      "(12, 2)\n",
      "(12, 1)\n"
     ]
    }
   ],
   "source": [
    "print(X.shape)\n",
    "print(y.shape)"
   ]
  },
  {
   "cell_type": "code",
   "execution_count": 4,
   "metadata": {},
   "outputs": [
    {
     "data": {
      "image/png": "[encoded data removed]",
      "text/plain": [
       "<matplotlib.figure.Figure at 0x117884470>"
      ]
     },
     "metadata": {},
     "output_type": "display_data"
    }
   ],
   "source": [
    "#plotting the training data\n",
    "plt.figure(figsize = (8,6))\n",
    "plt.grid(True)\n",
    "plt.scatter(X[:,1],y,marker = 'x',c = 'r',label = 'Scatter Ex1')\n",
    "plt.xlabel('Change in water level')\n",
    "plt.ylabel('Water flowing out of the dam')\n",
    "plt.legend(loc = 2)\n",
    "plt.show()"
   ]
  },
  {
   "cell_type": "markdown",
   "metadata": {},
   "source": [
    "## 1. Regularized Linear Regression "
   ]
  },
  {
   "cell_type": "code",
   "execution_count": 5,
   "metadata": {},
   "outputs": [],
   "source": [
    "def hypothesis(theta,X):\n",
    "    theta = theta.reshape((-1,1))\n",
    "    return np.dot(X,theta)\n",
    "    #hhypothesis(theta,X)\n",
    "    \n",
    "def cost_function(theta,X,y,m,input_lambda):\n",
    "    return np.sum(np.square(hypothesis(theta,X) - y))/(2*m) + np.sum(np.dot(theta[1:],theta[1:]))*input_lambda/(2*m)  \n",
    "    #cost_function(theta,X,y,m,input_lambda)  \n",
    "\n",
    "def gradient_descent(theta,X,y,m,input_lambda):\n",
    "    regterm = np.zeros(theta.reshape((-1,1)).shape)\n",
    "    regterm[1:] = theta[1:].reshape((-1,1))\n",
    "    output = np.dot(X.T,(hypothesis(theta,X) - y))/m   + np.square(regterm)*input_lambda/m\n",
    "    return output.reshape(-1)\n",
    "    #gradient_descent(theta,X,y,m,input_lambda)\n"
   ]
  },
  {
   "cell_type": "code",
   "execution_count": 6,
   "metadata": {},
   "outputs": [
    {
     "name": "stdout",
     "output_type": "stream",
     "text": [
      "Optimization terminated successfully.\n",
      "         Current function value: 22.379542\n",
      "         Iterations: 5\n",
      "         Function evaluations: 6\n",
      "         Gradient evaluations: 6\n"
     ]
    },
    {
     "data": {
      "text/plain": [
       "22.37954205100613"
      ]
     },
     "execution_count": 6,
     "metadata": {},
     "output_type": "execute_result"
    }
   ],
   "source": [
    "result = optimize.fmin_bfgs(cost_function,x0 = theta , fprime = gradient_descent, args = (X,y,m,input_lambda),maxiter=100,disp=True,full_output=True)\n",
    "result [1] "
   ]
  },
  {
   "cell_type": "code",
   "execution_count": 7,
   "metadata": {},
   "outputs": [
    {
     "name": "stdout",
     "output_type": "stream",
     "text": [
      "303.99319222\n",
      "[ -15.30301567  598.25074417]\n",
      "[1 1]\n"
     ]
    }
   ],
   "source": [
    "print(cost_function(theta,X,y,m,input_lambda) )\n",
    "print(gradient_descent(theta,X,y,m,input_lambda))\n",
    "print(theta)"
   ]
  },
  {
   "cell_type": "code",
   "execution_count": 8,
   "metadata": {},
   "outputs": [
    {
     "data": {
      "image/png": "[encoded data removed]",
      "text/plain": [
       "<matplotlib.figure.Figure at 0x1180b9278>"
      ]
     },
     "metadata": {},
     "output_type": "display_data"
    }
   ],
   "source": [
    "#plotting wit the \n",
    "plt.figure(figsize = (8,6))\n",
    "plt.grid(True)\n",
    "plt.scatter(X[:,1],y,marker = 'x',c = 'r',label = 'Scatter Ex1')\n",
    "plt.plot(X[:,1],hypothesis(result[0],X),marker = 'x',c = 'b',label = 'Best Fit')\n",
    "\n",
    "plt.xlabel('Change in water level')\n",
    "plt.ylabel('Water flowing out of the dam')\n",
    "plt.legend(loc = 2)\n",
    "plt.show()"
   ]
  },
  {
   "cell_type": "markdown",
   "metadata": {},
   "source": [
    "# 2. Bias-variance"
   ]
  },
  {
   "cell_type": "code",
   "execution_count": 9,
   "metadata": {},
   "outputs": [
    {
     "name": "stdout",
     "output_type": "stream",
     "text": [
      "(1, 2)\n",
      "(1, 1)\n",
      "12\n",
      "Warning: Desired error not necessarily achieved due to precision loss.\n",
      "         Current function value: 0.000186\n",
      "         Iterations: 2\n",
      "         Function evaluations: 111\n",
      "         Gradient evaluations: 99\n",
      "(2, 2)\n",
      "(2, 1)\n",
      "12\n",
      "Optimization terminated successfully.\n",
      "         Current function value: 0.000220\n",
      "         Iterations: 11\n",
      "         Function evaluations: 13\n",
      "         Gradient evaluations: 13\n",
      "(3, 2)\n",
      "(3, 1)\n",
      "12\n",
      "Optimization terminated successfully.\n",
      "         Current function value: 0.833755\n",
      "         Iterations: 5\n",
      "         Function evaluations: 7\n",
      "         Gradient evaluations: 7\n",
      "(4, 2)\n",
      "(4, 1)\n",
      "12\n",
      "Optimization terminated successfully.\n",
      "         Current function value: 0.960616\n",
      "         Iterations: 4\n",
      "         Function evaluations: 6\n",
      "         Gradient evaluations: 6\n",
      "(5, 2)\n",
      "(5, 1)\n",
      "12\n",
      "Warning: Desired error not necessarily achieved due to precision loss.\n",
      "         Current function value: 5.489281\n",
      "         Iterations: 8\n",
      "         Function evaluations: 77\n",
      "         Gradient evaluations: 65\n",
      "(6, 2)\n",
      "(6, 1)\n",
      "12\n",
      "Warning: Desired error not necessarily achieved due to precision loss.\n",
      "         Current function value: 9.730698\n",
      "         Iterations: 7\n",
      "         Function evaluations: 73\n",
      "         Gradient evaluations: 61\n",
      "(7, 2)\n",
      "(7, 1)\n",
      "12\n",
      "Warning: Desired error not necessarily achieved due to precision loss.\n",
      "         Current function value: 11.732087\n",
      "         Iterations: 7\n",
      "         Function evaluations: 71\n",
      "         Gradient evaluations: 59\n",
      "(8, 2)\n",
      "(8, 1)\n",
      "12\n",
      "Optimization terminated successfully.\n",
      "         Current function value: 12.122698\n",
      "         Iterations: 7\n",
      "         Function evaluations: 8\n",
      "         Gradient evaluations: 8\n",
      "(9, 2)\n",
      "(9, 1)\n",
      "12\n",
      "Optimization terminated successfully.\n",
      "         Current function value: 16.964160\n",
      "         Iterations: 7\n",
      "         Function evaluations: 8\n",
      "         Gradient evaluations: 8\n",
      "(10, 2)\n",
      "(10, 1)\n",
      "12\n",
      "Optimization terminated successfully.\n",
      "         Current function value: 19.390498\n",
      "         Iterations: 6\n",
      "         Function evaluations: 7\n",
      "         Gradient evaluations: 7\n",
      "(11, 2)\n",
      "(11, 1)\n",
      "12\n",
      "Optimization terminated successfully.\n",
      "         Current function value: 22.296315\n",
      "         Iterations: 6\n",
      "         Function evaluations: 7\n",
      "         Gradient evaluations: 7\n",
      "(12, 2)\n",
      "(12, 1)\n",
      "12\n",
      "Optimization terminated successfully.\n",
      "         Current function value: 22.379542\n",
      "         Iterations: 5\n",
      "         Function evaluations: 6\n",
      "         Gradient evaluations: 6\n"
     ]
    }
   ],
   "source": [
    "training_error  = []\n",
    "cross_val_error = []\n",
    "number_of_m     = []\n",
    "\n",
    "\n",
    "for i in range(m):\n",
    "    loop_X = X[0:(i+1)]\n",
    "    loop_y = y[0:(i+1)]\n",
    "    loop_m = X.shape[0]\n",
    "    \n",
    "    print(loop_X.shape)\n",
    "    print(loop_y.shape)\n",
    "    print(loop_m)\n",
    "    result = optimize.fmin_bfgs(cost_function,x0 = theta , fprime = gradient_descent, args = (loop_X,loop_y,loop_m,input_lambda),maxiter=100,disp=True,full_output=True)\n",
    "    #result [1]\n",
    "    training_error.append(result [1])   \n",
    "    number_of_m.append(i)\n",
    "    \n",
    "    theta_intermediate = result[0]\n",
    "    cross_val_error.append(cost_function(theta_intermediate,Xval,yval,yval.shape[0],input_lambda))"
   ]
  },
  {
   "cell_type": "code",
   "execution_count": 10,
   "metadata": {},
   "outputs": [
    {
     "data": {
      "image/png": "[encoded data removed]",
      "text/plain": [
       "<matplotlib.figure.Figure at 0x1180e5438>"
      ]
     },
     "metadata": {},
     "output_type": "display_data"
    }
   ],
   "source": [
    "plt.figure(figsize = (8,6))\n",
    "plt.grid(True)\n",
    "plt.plot(number_of_m,training_error,marker = 'x',c = 'b',label = 'Training Error')\n",
    "plt.plot(number_of_m,cross_val_error,marker = 'x',c = 'g',label = 'Cross Validation Error')\n",
    "\n",
    "plt.xlabel('Change in water level')\n",
    "plt.ylabel('Water flowing out of the dam')\n",
    "plt.legend(loc = 2)\n",
    "plt.show()"
   ]
  },
  {
   "cell_type": "markdown",
   "metadata": {},
   "source": [
    "# 3. Polynomial Regression "
   ]
  },
  {
   "cell_type": "code",
   "execution_count": 11,
   "metadata": {},
   "outputs": [],
   "source": [
    "def polynomial(X,order):\n",
    "    for i in range(1,order):\n",
    "        X = np.insert(X,(i+1),X[:,1]**(i+1),axis=1)\n",
    "    return X"
   ]
  },
  {
   "cell_type": "code",
   "execution_count": 12,
   "metadata": {
    "scrolled": true
   },
   "outputs": [
    {
     "name": "stderr",
     "output_type": "stream",
     "text": [
      "/Users/deepanjal.gupta/anaconda/lib/python3.6/site-packages/sklearn/preprocessing/data.py:160: UserWarning: Numerical issues were encountered when centering the data and might not be solved. Dataset may contain too large values. You may need to prescale your features.\n",
      "  warnings.warn(\"Numerical issues were encountered \"\n"
     ]
    },
    {
     "data": {
      "text/html": [
       "<div>\n",
       "<style>\n",
       "    .dataframe thead tr:only-child th {\n",
       "        text-align: right;\n",
       "    }\n",
       "\n",
       "    .dataframe thead th {\n",
       "        text-align: left;\n",
       "    }\n",
       "\n",
       "    .dataframe tbody tr th {\n",
       "        vertical-align: top;\n",
       "    }\n",
       "</style>\n",
       "<table border=\"1\" class=\"dataframe\">\n",
       "  <thead>\n",
       "    <tr style=\"text-align: right;\">\n",
       "      <th></th>\n",
       "      <th>0</th>\n",
       "      <th>1</th>\n",
       "      <th>2</th>\n",
       "      <th>3</th>\n",
       "      <th>4</th>\n",
       "      <th>5</th>\n",
       "      <th>6</th>\n",
       "      <th>7</th>\n",
       "      <th>8</th>\n",
       "    </tr>\n",
       "  </thead>\n",
       "  <tbody>\n",
       "    <tr>\n",
       "      <th>0</th>\n",
       "      <td>1.0</td>\n",
       "      <td>-0.378244</td>\n",
       "      <td>-0.788662</td>\n",
       "      <td>0.190329</td>\n",
       "      <td>-0.737591</td>\n",
       "      <td>0.320252</td>\n",
       "      <td>-0.617152</td>\n",
       "      <td>0.359835</td>\n",
       "      <td>-0.531091</td>\n",
       "    </tr>\n",
       "    <tr>\n",
       "      <th>1</th>\n",
       "      <td>1.0</td>\n",
       "      <td>-0.838920</td>\n",
       "      <td>0.001314</td>\n",
       "      <td>-0.258962</td>\n",
       "      <td>-0.341565</td>\n",
       "      <td>0.097549</td>\n",
       "      <td>-0.455197</td>\n",
       "      <td>0.266773</td>\n",
       "      <td>-0.468874</td>\n",
       "    </tr>\n",
       "    <tr>\n",
       "      <th>2</th>\n",
       "      <td>1.0</td>\n",
       "      <td>1.438717</td>\n",
       "      <td>0.610832</td>\n",
       "      <td>1.305341</td>\n",
       "      <td>0.256220</td>\n",
       "      <td>1.021863</td>\n",
       "      <td>-0.012696</td>\n",
       "      <td>0.790210</td>\n",
       "      <td>-0.177927</td>\n",
       "    </tr>\n",
       "    <tr>\n",
       "      <th>3</th>\n",
       "      <td>1.0</td>\n",
       "      <td>1.484123</td>\n",
       "      <td>0.738068</td>\n",
       "      <td>1.420312</td>\n",
       "      <td>0.413122</td>\n",
       "      <td>1.155348</td>\n",
       "      <td>0.131224</td>\n",
       "      <td>0.910700</td>\n",
       "      <td>-0.062290</td>\n",
       "    </tr>\n",
       "    <tr>\n",
       "      <th>4</th>\n",
       "      <td>1.0</td>\n",
       "      <td>-1.497919</td>\n",
       "      <td>1.936440</td>\n",
       "      <td>-2.127747</td>\n",
       "      <td>2.435101</td>\n",
       "      <td>-2.518767</td>\n",
       "      <td>2.717922</td>\n",
       "      <td>-2.763317</td>\n",
       "      <td>2.889082</td>\n",
       "    </tr>\n",
       "  </tbody>\n",
       "</table>\n",
       "</div>"
      ],
      "text/plain": [
       "     0         1         2         3         4         5         6         7  \\\n",
       "0  1.0 -0.378244 -0.788662  0.190329 -0.737591  0.320252 -0.617152  0.359835   \n",
       "1  1.0 -0.838920  0.001314 -0.258962 -0.341565  0.097549 -0.455197  0.266773   \n",
       "2  1.0  1.438717  0.610832  1.305341  0.256220  1.021863 -0.012696  0.790210   \n",
       "3  1.0  1.484123  0.738068  1.420312  0.413122  1.155348  0.131224  0.910700   \n",
       "4  1.0 -1.497919  1.936440 -2.127747  2.435101 -2.518767  2.717922 -2.763317   \n",
       "\n",
       "          8  \n",
       "0 -0.531091  \n",
       "1 -0.468874  \n",
       "2 -0.177927  \n",
       "3 -0.062290  \n",
       "4  2.889082  "
      ]
     },
     "execution_count": 12,
     "metadata": {},
     "output_type": "execute_result"
    }
   ],
   "source": [
    "theta_polynomial_start = np.ones(9)\n",
    "X_intermediate = np.insert(preprocessing.scale(polynomial(X,8))[:,1:],0,1,axis = 1)\n",
    "pd.DataFrame(X_intermediate).head()\n"
   ]
  },
  {
   "cell_type": "code",
   "execution_count": 13,
   "metadata": {},
   "outputs": [
    {
     "data": {
      "text/plain": [
       "103.98650775912115"
      ]
     },
     "execution_count": 13,
     "metadata": {},
     "output_type": "execute_result"
    }
   ],
   "source": [
    "cost_function(theta_polynomial_start,X_intermediate,y,m,input_lambda)"
   ]
  },
  {
   "cell_type": "code",
   "execution_count": 14,
   "metadata": {},
   "outputs": [
    {
     "data": {
      "text/plain": [
       "(9,)"
      ]
     },
     "execution_count": 14,
     "metadata": {},
     "output_type": "execute_result"
    }
   ],
   "source": [
    "gradient_descent(theta_polynomial_start,X_intermediate,y,m,input_lambda).shape"
   ]
  },
  {
   "cell_type": "code",
   "execution_count": 15,
   "metadata": {},
   "outputs": [
    {
     "name": "stdout",
     "output_type": "stream",
     "text": [
      "Warning: Desired error not necessarily achieved due to precision loss.\n",
      "         Current function value: 9.190470\n",
      "         Iterations: 4\n",
      "         Function evaluations: 101\n",
      "         Gradient evaluations: 89\n",
      "9.190469580190626\n",
      "[ 11.23501869   5.2057671    3.41804304   3.80750799   2.43246184\n",
      "   2.83318183   1.77738673   2.17427915   1.32894521]\n"
     ]
    }
   ],
   "source": [
    "result = optimize.fmin_bfgs(cost_function,x0 = theta_polynomial_start , fprime = gradient_descent, args = (X_intermediate,y,m,input_lambda),maxiter=10000,disp=True,full_output=True)\n",
    "print(result [1] )\n",
    "print(result[0])"
   ]
  },
  {
   "cell_type": "code",
   "execution_count": 16,
   "metadata": {},
   "outputs": [
    {
     "data": {
      "image/png": "[encoded data removed]",
      "text/plain": [
       "<matplotlib.figure.Figure at 0x1180b9240>"
      ]
     },
     "metadata": {},
     "output_type": "display_data"
    }
   ],
   "source": [
    "#plotting the training data\n",
    "plt.figure(figsize = (8,6))\n",
    "plt.grid(True)\n",
    "plt.scatter(X[:,1],y,marker = 'x',c = 'r',label = 'Scatter Ex1')\n",
    "plt.scatter(X[:,1],hypothesis(result[0],X_intermediate),marker = 'x',c = 'b',label = 'Best Fit')\n",
    "plt.xlabel('Change in water level')\n",
    "plt.ylabel('Water flowing out of the dam')\n",
    "plt.legend(loc = 2)\n",
    "plt.show()"
   ]
  },
  {
   "cell_type": "code",
   "execution_count": null,
   "metadata": {},
   "outputs": [],
   "source": []
  }
 ],
 "metadata": {
  "kernelspec": {
   "display_name": "Python 3",
   "language": "python",
   "name": "python3"
  },
  "language_info": {
   "codemirror_mode": {
    "name": "ipython",
    "version": 3
   },
   "file_extension": ".py",
   "mimetype": "text/x-python",
   "name": "python",
   "nbconvert_exporter": "python",
   "pygments_lexer": "ipython3",
   "version": "3.6.1"
  }
 },
 "nbformat": 4,
 "nbformat_minor": 2
}
