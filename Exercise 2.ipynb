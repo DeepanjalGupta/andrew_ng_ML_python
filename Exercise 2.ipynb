{
 "cells": [
  {
   "cell_type": "code",
   "execution_count": 1,
   "metadata": {},
   "outputs": [],
   "source": [
    "import numpy as np\n",
    "import pandas as pd\n",
    "import seaborn as sn\n",
    "\n",
    "from matplotlib import pyplot as plt\n",
    "from scipy.special import expit\n",
    "from scipy import optimize\n",
    "import math\n",
    "\n",
    "\n",
    "\n",
    "%matplotlib inline"
   ]
  },
  {
   "cell_type": "markdown",
   "metadata": {},
   "source": [
    "# 1. Logistic Regression - Example 1\n",
    "## A. Plotting"
   ]
  },
  {
   "cell_type": "code",
   "execution_count": 2,
   "metadata": {},
   "outputs": [],
   "source": [
    "#reading the data from the file.\n",
    "data_ex1  = pd.read_csv('/Users/deepanjal.gupta/Documents/Learning/Stanford Machine Learning- Andrew Ng/Week 3/machine-learning-ex2/ex2/ex2data1.txt', header = None)\n",
    "\n",
    "#giving names to the dataframe columns.\n",
    "data_ex1.columns  = ['Exam1','Exam2','Output']\n",
    "\n",
    "#adding the x0 feature for the data.\n",
    "data_ex1['x0'] = 1\n",
    "\n",
    "#rearranging the dataframe column order. \n",
    "data_ex1 = data_ex1.loc[:,['x0','Exam1','Exam2','Output']]"
   ]
  },
  {
   "cell_type": "code",
   "execution_count": 3,
   "metadata": {
    "scrolled": false
   },
   "outputs": [
    {
     "data": {
      "text/html": [
       "<div>\n",
       "<style>\n",
       "    .dataframe thead tr:only-child th {\n",
       "        text-align: right;\n",
       "    }\n",
       "\n",
       "    .dataframe thead th {\n",
       "        text-align: left;\n",
       "    }\n",
       "\n",
       "    .dataframe tbody tr th {\n",
       "        vertical-align: top;\n",
       "    }\n",
       "</style>\n",
       "<table border=\"1\" class=\"dataframe\">\n",
       "  <thead>\n",
       "    <tr style=\"text-align: right;\">\n",
       "      <th></th>\n",
       "      <th>x0</th>\n",
       "      <th>Exam1</th>\n",
       "      <th>Exam2</th>\n",
       "      <th>Output</th>\n",
       "    </tr>\n",
       "  </thead>\n",
       "  <tbody>\n",
       "    <tr>\n",
       "      <th>0</th>\n",
       "      <td>1</td>\n",
       "      <td>34.623660</td>\n",
       "      <td>78.024693</td>\n",
       "      <td>0</td>\n",
       "    </tr>\n",
       "    <tr>\n",
       "      <th>1</th>\n",
       "      <td>1</td>\n",
       "      <td>30.286711</td>\n",
       "      <td>43.894998</td>\n",
       "      <td>0</td>\n",
       "    </tr>\n",
       "    <tr>\n",
       "      <th>2</th>\n",
       "      <td>1</td>\n",
       "      <td>35.847409</td>\n",
       "      <td>72.902198</td>\n",
       "      <td>0</td>\n",
       "    </tr>\n",
       "    <tr>\n",
       "      <th>3</th>\n",
       "      <td>1</td>\n",
       "      <td>60.182599</td>\n",
       "      <td>86.308552</td>\n",
       "      <td>1</td>\n",
       "    </tr>\n",
       "  </tbody>\n",
       "</table>\n",
       "</div>"
      ],
      "text/plain": [
       "   x0      Exam1      Exam2  Output\n",
       "0   1  34.623660  78.024693       0\n",
       "1   1  30.286711  43.894998       0\n",
       "2   1  35.847409  72.902198       0\n",
       "3   1  60.182599  86.308552       1"
      ]
     },
     "execution_count": 3,
     "metadata": {},
     "output_type": "execute_result"
    }
   ],
   "source": [
    "data_ex1.head(4)"
   ]
  },
  {
   "cell_type": "code",
   "execution_count": 4,
   "metadata": {},
   "outputs": [
    {
     "data": {
      "image/png": "[encoded data removed]",
      "text/plain": [
       "<matplotlib.figure.Figure at 0x11af935f8>"
      ]
     },
     "metadata": {},
     "output_type": "display_data"
    }
   ],
   "source": [
    "#Plotting the scatter plot\n",
    "x_yes = data_ex1[data_ex1['Output'] == 1]['Exam1']\n",
    "y_yes = data_ex1[data_ex1['Output'] == 1]['Exam2']\n",
    "\n",
    "x_no = data_ex1[data_ex1['Output'] == 0]['Exam1']\n",
    "y_no = data_ex1[data_ex1['Output'] == 0]['Exam2']\n",
    "\n",
    "plt.figure(figsize = (6,6))\n",
    "plt.grid(True)\n",
    "plt.scatter(x_yes,y_yes,marker = '+',c = 'g',label = 'Admitted')\n",
    "plt.scatter(x_no,y_no,marker = '+',c = 'r',label = 'Not Admitted')\n",
    "\n",
    "plt.xlabel('Exam1 Score')\n",
    "plt.ylabel('Exam2 Score ')\n",
    "plt.legend(loc = 3)\n",
    "plt.show()"
   ]
  },
  {
   "cell_type": "markdown",
   "metadata": {},
   "source": [
    "## B. Defining the Functions"
   ]
  },
  {
   "cell_type": "code",
   "execution_count": 5,
   "metadata": {},
   "outputs": [
    {
     "name": "stdout",
     "output_type": "stream",
     "text": [
      "100\n",
      "(100, 3)\n",
      "(100, 1)\n"
     ]
    }
   ],
   "source": [
    "m = data_ex1.shape[0]\n",
    "lambda_input = 0\n",
    "X = np.array(data_ex1.loc[:,['x0','Exam1','Exam2']])\n",
    "y = np.array(data_ex1.loc[:,['Output']]).reshape(data_ex1.shape[0],1)\n",
    "theta = np.zeros((X.shape[1],1))\n",
    "input_lambda = 0\n",
    "#theta = np.ones((X.shape[1],1))\n",
    "print (m)\n",
    "print (X.shape)\n",
    "print (y.shape)\n"
   ]
  },
  {
   "cell_type": "code",
   "execution_count": 6,
   "metadata": {
    "scrolled": true
   },
   "outputs": [],
   "source": [
    "def hypothesis(X, theta):\n",
    "    #hypothesis(X, theta)\n",
    "    \n",
    "    return expit(np.dot(X,theta))\n",
    "    \n",
    "\n",
    "\n",
    "def cost_function(theta,m,X,y,input_lambda = 0.0):\n",
    "    \n",
    "    #cost_function(theta,m,X,y)\n",
    "    term_1 = np.dot(np.log(hypothesis(X,theta)).T,y)\n",
    "    term_2 = np.dot(np.log(1-hypothesis(X,theta)).T,(1- y))\n",
    "    reg    = float(np.dot(theta[1:].T,theta[1:]))*input_lambda/(2*m)\n",
    "    \n",
    "    J =  -np.sum(term_1+term_2)/m +reg\n",
    "    \n",
    "    return J\n",
    "    \n",
    "def optimize_theta(m,X,y,theta,input_lambda = 0.0):\n",
    "    result = optimize.fmin(cost_function, x0=theta, args=(m,X,y,input_lambda), maxiter=1000, full_output=True)\n",
    "    \n",
    "    return result[0],result[1]\n"
   ]
  },
  {
   "cell_type": "code",
   "execution_count": 7,
   "metadata": {
    "scrolled": false
   },
   "outputs": [
    {
     "name": "stdout",
     "output_type": "stream",
     "text": [
      "Optimization terminated successfully.\n",
      "         Current function value: 0.203498\n",
      "         Iterations: 157\n",
      "         Function evaluations: 287\n"
     ]
    }
   ],
   "source": [
    "theta, min_cost = optimize_theta(m,X,y,theta)"
   ]
  },
  {
   "cell_type": "code",
   "execution_count": 8,
   "metadata": {
    "scrolled": true
   },
   "outputs": [
    {
     "data": {
      "image/png": "[encoded data removed]",
      "text/plain": [
       "<matplotlib.figure.Figure at 0x11af93518>"
      ]
     },
     "metadata": {},
     "output_type": "display_data"
    }
   ],
   "source": [
    "x_yes = data_ex1[data_ex1['Output'] == 1]['Exam1']\n",
    "y_yes = data_ex1[data_ex1['Output'] == 1]['Exam2']\n",
    "\n",
    "x_no = data_ex1[data_ex1['Output'] == 0]['Exam1']\n",
    "y_no = data_ex1[data_ex1['Output'] == 0]['Exam2']\n",
    "\n",
    "decision_x = np.array([20,100])\n",
    "decision_y = -(theta[0] + theta[1]*decision_x)/(theta[2])\n",
    "\n",
    "plt.figure(figsize = (5,5))\n",
    "plt.grid(True)\n",
    "plt.scatter(x_yes,y_yes,marker = '+',c = 'g',label = 'Admitted')\n",
    "plt.scatter(x_no,y_no,marker = '+',c = 'r',label = 'Not Admitted')\n",
    "plt.plot(decision_x,decision_y,c = 'b')\n",
    "\n",
    "\n",
    "plt.xlabel('Exam1 Score')\n",
    "plt.ylabel('Exam2 Score ')\n",
    "plt.legend(loc = 3)\n",
    "plt.show()"
   ]
  },
  {
   "cell_type": "code",
   "execution_count": 9,
   "metadata": {
    "scrolled": true
   },
   "outputs": [
    {
     "name": "stdout",
     "output_type": "stream",
     "text": [
      "Wrong Predictions\n",
      "    x0      Exam1      Exam2  Output  Predicion\n",
      "7    1  75.024746  46.554014       1      False\n",
      "10   1  95.861555  38.225278       0       True\n",
      "16   1  69.070144  52.740470       1      False\n",
      "27   1  93.114389  38.800670       0       True\n",
      "33   1  52.045405  69.432860       1      False\n",
      "36   1  33.915500  98.869436       0       True\n",
      "43   1  82.368754  40.618255       0       True\n",
      "57   1  32.577200  95.598548       0       True\n",
      "79   1  82.226662  42.719879       0       True\n",
      "83   1  57.238706  59.514282       1      False\n",
      "98   1  55.340018  64.931938       1      False\n"
     ]
    }
   ],
   "source": [
    "data_ex1['Predicion'] = (hypothesis(X, theta) >= 0.5)\n",
    "print ('Wrong Predictions')\n",
    "print (data_ex1[data_ex1['Predicion'] != data_ex1['Output']])"
   ]
  },
  {
   "cell_type": "markdown",
   "metadata": {},
   "source": [
    "#  2. Regularized Logistic Regression"
   ]
  },
  {
   "cell_type": "code",
   "execution_count": 10,
   "metadata": {},
   "outputs": [],
   "source": [
    "#reading the data from the file to a pandas dataframe.\n",
    "data_ex2 = pd.read_csv('/Users/deepanjal.gupta/Documents/Learning/Stanford Machine Learning- Andrew Ng/Week 3/machine-learning-ex2/ex2/ex2data2.txt',header = None,names = ['Test1','Test2','Output'])\n",
    "\n",
    "#adding the x0 feature for the data.\n",
    "#data_ex2['x0'] = 1\n",
    "\n",
    "#rearranging the dataframe column order. \n",
    "#data_ex2 = data_ex2.loc[:,['x0','Test1','Test2','Output']]"
   ]
  },
  {
   "cell_type": "code",
   "execution_count": 11,
   "metadata": {
    "scrolled": false
   },
   "outputs": [
    {
     "data": {
      "image/png": "[encoded data removed]",
      "text/plain": [
       "<matplotlib.figure.Figure at 0x11af93470>"
      ]
     },
     "metadata": {},
     "output_type": "display_data"
    }
   ],
   "source": [
    "#Plotting the scatter plot\n",
    "x_yes = data_ex2[data_ex2['Output'] == 1]['Test1']\n",
    "y_yes = data_ex2[data_ex2['Output'] == 1]['Test2']\n",
    "\n",
    "x_no = data_ex2[data_ex2['Output'] == 0]['Test1']\n",
    "y_no = data_ex2[data_ex2['Output'] == 0]['Test2']\n",
    "\n",
    "plt.figure(figsize = (6,6))\n",
    "plt.grid(True)\n",
    "plt.scatter(x_yes,y_yes,marker = '+',c = 'g',label = 'Admitted')\n",
    "plt.scatter(x_no,y_no,marker = '+',c = 'r',label = 'Not Admitted')\n",
    "\n",
    "plt.xlabel('Test1 Score')\n",
    "plt.ylabel('Test1 Score ')\n",
    "plt.legend(loc = 3)\n",
    "plt.show()"
   ]
  },
  {
   "cell_type": "code",
   "execution_count": 12,
   "metadata": {},
   "outputs": [],
   "source": [
    "df_params = pd.DataFrame()"
   ]
  },
  {
   "cell_type": "code",
   "execution_count": 13,
   "metadata": {},
   "outputs": [],
   "source": [
    "limit = 6\n",
    "for i in range(0,limit+1):\n",
    "    for j in range(0,limit+1):\n",
    "        if ((i+j) <=limit):\n",
    "            a =  ('x'+str(i)+'y'+str(j))\n",
    "            df_params [a] = (data_ex2['Test1']**i)*(data_ex2['Test2']**j)"
   ]
  },
  {
   "cell_type": "code",
   "execution_count": 14,
   "metadata": {},
   "outputs": [
    {
     "name": "stdout",
     "output_type": "stream",
     "text": [
      "118\n",
      "(118, 28)\n",
      "(118, 1)\n"
     ]
    }
   ],
   "source": [
    "m = data_ex2.shape[0]\n",
    "X = np.array(df_params)\n",
    "y = np.array(data_ex2.loc[:,['Output']]).reshape(m,1)\n",
    "input_lambda = 1\n",
    "theta = np.zeros((X.shape[1],1))\n",
    "#theta = np.ones((X.shape[1],1))\n",
    "print (m)\n",
    "print (X.shape)\n",
    "print (y.shape)"
   ]
  },
  {
   "cell_type": "code",
   "execution_count": 15,
   "metadata": {},
   "outputs": [],
   "source": [
    "# fmin was not converging \n",
    "def optimize_theta_minimize(m,X,y,theta,input_lambda = 0.0):\n",
    "    result = optimize.minimize(cost_function, x0=theta, args=(m,X,y,input_lambda),method='BFGS', options={\"maxiter\":500, \"disp\":False})\n",
    "    theta = result.x.reshape(X.shape[1],1)\n",
    "    min_cost = result.fun\n",
    "    \n",
    "    return theta,min_cost\n",
    "    "
   ]
  },
  {
   "cell_type": "code",
   "execution_count": 16,
   "metadata": {},
   "outputs": [],
   "source": [
    "theta , cost_min = optimize_theta_minimize(m,X,y,theta,input_lambda)"
   ]
  },
  {
   "cell_type": "code",
   "execution_count": 17,
   "metadata": {
    "scrolled": true
   },
   "outputs": [
    {
     "data": {
      "image/png": "[encoded data removed]",
      "text/plain": [
       "<matplotlib.figure.Figure at 0x11e4ea908>"
      ]
     },
     "metadata": {},
     "output_type": "display_data"
    }
   ],
   "source": [
    "#Plotting the scatter plot\n",
    "x_yes = data_ex2[data_ex2['Output'] == 1]['Test1']\n",
    "y_yes = data_ex2[data_ex2['Output'] == 1]['Test2']\n",
    "\n",
    "x_no = data_ex2[data_ex2['Output'] == 0]['Test1']\n",
    "y_no = data_ex2[data_ex2['Output'] == 0]['Test2']\n",
    "\n",
    "plt.figure(figsize = (6,6))\n",
    "plt.grid(True)\n",
    "plt.scatter(x_yes,y_yes,marker = '+',c = 'g',label = 'Admitted')\n",
    "plt.scatter(x_no,y_no,marker = '+',c = 'r',label = 'Not Admitted')\n",
    "\n",
    "plt.xlabel('Test1 Score')\n",
    "plt.ylabel('Test1 Score ')\n",
    "plt.legend(loc = 3)\n",
    "plt.show()"
   ]
  },
  {
   "cell_type": "code",
   "execution_count": 18,
   "metadata": {
    "scrolled": true
   },
   "outputs": [
    {
     "name": "stdout",
     "output_type": "stream",
     "text": [
      "Wrong Predictions for lambda: 1\n"
     ]
    },
    {
     "data": {
      "text/plain": [
       "0.8305084745762712"
      ]
     },
     "execution_count": 18,
     "metadata": {},
     "output_type": "execute_result"
    }
   ],
   "source": [
    "data_ex2['Predicion'] = (hypothesis(X, theta) >= 0.5)\n",
    "print ('Wrong Predictions for lambda: '  + str(input_lambda))\n",
    "(data_ex2[data_ex2['Predicion'] == data_ex2['Output']]).shape[0]/data_ex2.shape[0]"
   ]
  },
  {
   "cell_type": "code",
   "execution_count": null,
   "metadata": {},
   "outputs": [],
   "source": []
  }
 ],
 "metadata": {
  "kernelspec": {
   "display_name": "Python 3",
   "language": "python",
   "name": "python3"
  },
  "language_info": {
   "codemirror_mode": {
    "name": "ipython",
    "version": 3
   },
   "file_extension": ".py",
   "mimetype": "text/x-python",
   "name": "python",
   "nbconvert_exporter": "python",
   "pygments_lexer": "ipython3",
   "version": "3.6.1"
  }
 },
 "nbformat": 4,
 "nbformat_minor": 2
}
