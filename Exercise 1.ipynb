{
 "cells": [
  {
   "cell_type": "code",
   "execution_count": 1,
   "metadata": {},
   "outputs": [],
   "source": [
    "import pandas as pd\n",
    "import numpy as np\n",
    "import seaborn as sn\n",
    "\n",
    "from matplotlib import pyplot as plt\n",
    "from scipy import optimize\n",
    "from sklearn.linear_model import LinearRegression\n",
    "\n",
    "%matplotlib inline"
   ]
  },
  {
   "cell_type": "markdown",
   "metadata": {},
   "source": [
    "# 1. Univariate Linear Regression"
   ]
  },
  {
   "cell_type": "code",
   "execution_count": 2,
   "metadata": {},
   "outputs": [
    {
     "name": "stdout",
     "output_type": "stream",
     "text": [
      "   x0  Population   Profit\n",
      "0   1      6.1101  17.5920\n",
      "1   1      5.5277   9.1302\n",
      "2   1      8.5186  13.6620\n"
     ]
    }
   ],
   "source": [
    "#reading the data from the file.\n",
    "data_ex1 = pd.read_csv('/Users/deepanjal.gupta/Documents/Learning/Stanford Machine Learning- Andrew Ng/Week 2/machine-learning-ex1/ex1/ex1data1.txt', header = None )\n",
    "\n",
    "#giving names to the dataframe columns.\n",
    "data_ex1.columns = ['Population','Profit']\n",
    "\n",
    "#adding the x0 feature for the data.\n",
    "data_ex1['x0'] = 1\n",
    "\n",
    "#rearranging the dataframe column order. \n",
    "data_ex1= data_ex1 [['x0','Population','Profit']]\n",
    "features_values = np.array(data_ex1[['x0','Population']])\n",
    "print (data_ex1.head(3))"
   ]
  },
  {
   "cell_type": "code",
   "execution_count": 3,
   "metadata": {
    "scrolled": false
   },
   "outputs": [
    {
     "data": {
      "image/png": "[encoded data removed]",
      "text/plain": [
       "<matplotlib.figure.Figure at 0x117514c50>"
      ]
     },
     "metadata": {},
     "output_type": "display_data"
    }
   ],
   "source": [
    "\n",
    "#Plotting the scatter plot\n",
    "plt.figure(figsize = (5.5,5.5))\n",
    "plt.grid(True)\n",
    "plt.scatter(data_ex1['Population'],data_ex1['Profit'],marker = '+',c = 'r',label = 'Scatter Ex1')\n",
    "plt.xlabel('Population in 10k')\n",
    "plt.ylabel('Profit in $10k')\n",
    "plt.legend(loc = 2)\n",
    "plt.show()"
   ]
  },
  {
   "cell_type": "code",
   "execution_count": 4,
   "metadata": {},
   "outputs": [
    {
     "name": "stdout",
     "output_type": "stream",
     "text": [
      "(97, 2)\n",
      "(97, 1)\n",
      "(2, 1)\n",
      "97\n"
     ]
    }
   ],
   "source": [
    "X = np.array(data_ex1[['x0','Population']])\n",
    "y = np.array(data_ex1[['Profit']]).reshape((97,1))\n",
    "theta = np.zeros((2,1))\n",
    "m = y.shape[0]\n",
    "print     (X.shape)\n",
    "print     (y.shape)\n",
    "print (theta.shape)\n",
    "print (m)\n"
   ]
  },
  {
   "cell_type": "code",
   "execution_count": 5,
   "metadata": {},
   "outputs": [],
   "source": [
    "def hypothesis(X,theta):\n",
    "    return np.dot(X,theta)\n",
    "    #hypothesis(X,theta)\n",
    "    \n",
    "    \n",
    "def cost_function(X,y,theta,m):\n",
    "    return np.sum(np.square(hypothesis(X,theta) - y))/(2*m)    \n",
    "    #cost_function(X,y,theta,m)\n",
    "    \n",
    "def gradient_descent(alpha,theta,m,X,y):\n",
    "    theta0 = theta [0,0]\n",
    "    theta1 = theta [1,0]\n",
    "    \n",
    "    theta0 = theta0 - (alpha/float(m))*np.sum(hypothesis(X,theta) - y)\n",
    "    theta1 = theta1 - (alpha/float(m))*float(np.dot(X.T[1].reshape(1,97),(hypothesis(X,theta) - y),))\n",
    "    \n",
    "    return (theta0,theta1)\n",
    "    "
   ]
  },
  {
   "cell_type": "code",
   "execution_count": 6,
   "metadata": {},
   "outputs": [
    {
     "data": {
      "text/plain": [
       "32.072733877455676"
      ]
     },
     "execution_count": 6,
     "metadata": {},
     "output_type": "execute_result"
    }
   ],
   "source": [
    "cost_function(X,y,theta,m)"
   ]
  },
  {
   "cell_type": "code",
   "execution_count": 7,
   "metadata": {},
   "outputs": [],
   "source": [
    "theta = np.zeros((2,1))\n",
    "number = []\n",
    "value_cost_function = []\n",
    "alpha = 0.01\n",
    "\n",
    "for i in range(1,1500):\n",
    "    number.append(i)\n",
    "    value_cost_function.append(cost_function(X,y,theta,m))\n",
    "    answer = gradient_descent(alpha,theta,m,X,y)\n",
    "    theta [0,0] = answer[0]\n",
    "    theta [1,0] = answer[1]"
   ]
  },
  {
   "cell_type": "code",
   "execution_count": 8,
   "metadata": {
    "scrolled": true
   },
   "outputs": [
    {
     "data": {
      "image/png": "[encoded data removed]",
      "text/plain": [
       "<matplotlib.figure.Figure at 0x11aadb3c8>"
      ]
     },
     "metadata": {},
     "output_type": "display_data"
    }
   ],
   "source": [
    "plt.figure(figsize = (5,5))\n",
    "plt.grid(True)\n",
    "plt.scatter(number,value_cost_function,marker = 'o',c = 'r',label = 'Scatter Ex1')\n",
    "plt.xlabel('number')\n",
    "plt.ylabel('value_cost_function')\n",
    "plt.legend(loc = 2)\n",
    "plt.show()"
   ]
  },
  {
   "cell_type": "code",
   "execution_count": 9,
   "metadata": {},
   "outputs": [
    {
     "data": {
      "image/png": "[encoded data removed]",
      "text/plain": [
       "<matplotlib.figure.Figure at 0x11ab79dd8>"
      ]
     },
     "metadata": {},
     "output_type": "display_data"
    }
   ],
   "source": [
    "plt.figure(figsize = (5.5,5.5))\n",
    "plt.grid(True)\n",
    "plt.scatter(data_ex1['Population'],data_ex1['Profit'],marker = '+',c = 'r',label = 'Scatter Ex1')\n",
    "plt.plot(data_ex1['Population'],hypothesis(X,theta),marker = '+',c = 'b',label = 'Best Fit')\n",
    "\n",
    "plt.xlabel('Population in 10k')\n",
    "plt.ylabel('Profit in $10k')\n",
    "plt.legend(loc = 2)\n",
    "plt.show()"
   ]
  },
  {
   "cell_type": "code",
   "execution_count": 10,
   "metadata": {
    "scrolled": true
   },
   "outputs": [
    {
     "data": {
      "text/plain": [
       "array([[-3.62981201],\n",
       "       [ 1.16631419]])"
      ]
     },
     "execution_count": 10,
     "metadata": {},
     "output_type": "execute_result"
    }
   ],
   "source": [
    "theta"
   ]
  },
  {
   "cell_type": "markdown",
   "metadata": {},
   "source": [
    "# 2. Using Sklearn"
   ]
  },
  {
   "cell_type": "code",
   "execution_count": 11,
   "metadata": {},
   "outputs": [
    {
     "name": "stdout",
     "output_type": "stream",
     "text": [
      "intercept:\n",
      "[-3.89578088]\n",
      "\n",
      "theta0 and theta 1\n",
      "[[ 0.          1.19303364]]\n"
     ]
    }
   ],
   "source": [
    "# instantiate\n",
    "linreg = LinearRegression()\n",
    "\n",
    "# fit the model to the training data (learn the coefficients)\n",
    "linreg.fit(X, y)\n",
    "\n",
    "print ('intercept:')\n",
    "print(linreg.intercept_)\n",
    "print ('')\n",
    "print ('theta0 and theta 1')\n",
    "print(linreg.coef_)\n",
    "\n",
    "#linreg.predict(X)\n",
    "\n"
   ]
  },
  {
   "cell_type": "code",
   "execution_count": 12,
   "metadata": {},
   "outputs": [
    {
     "data": {
      "image/png": "[encoded data removed]",
      "text/plain": [
       "<matplotlib.figure.Figure at 0x11aba9ef0>"
      ]
     },
     "metadata": {},
     "output_type": "display_data"
    }
   ],
   "source": [
    "plt.figure(figsize = (5.5,5.5))\n",
    "plt.grid(True)\n",
    "plt.scatter(data_ex1['Population'],data_ex1['Profit'],marker = '+',c = 'r',label = 'Scatter Ex1')\n",
    "plt.plot(data_ex1['Population'],linreg.predict(X),marker = '+',c = 'b',label = 'Best Fit using itterative method')\n",
    "plt.plot(data_ex1['Population'],hypothesis(X,theta),marker = '+',c = 'g',label = 'Best Fit using sklearn')\n",
    "plt.xlabel('Population in 10k')\n",
    "plt.ylabel('Profit in $10k')\n",
    "plt.legend(loc = 2)\n",
    "plt.show()\n",
    "\n"
   ]
  }
 ],
 "metadata": {
  "kernelspec": {
   "display_name": "Python 3",
   "language": "python",
   "name": "python3"
  },
  "language_info": {
   "codemirror_mode": {
    "name": "ipython",
    "version": 3
   },
   "file_extension": ".py",
   "mimetype": "text/x-python",
   "name": "python",
   "nbconvert_exporter": "python",
   "pygments_lexer": "ipython3",
   "version": "3.6.1"
  }
 },
 "nbformat": 4,
 "nbformat_minor": 2
}
