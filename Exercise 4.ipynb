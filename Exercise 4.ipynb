{
 "cells": [
  {
   "cell_type": "code",
   "execution_count": 1,
   "metadata": {},
   "outputs": [],
   "source": [
    "%matplotlib inline\n",
    "import numpy as np\n",
    "import pandas as pd\n",
    "import matplotlib.pyplot as plt\n",
    "import scipy.io #Used to load the OCTAVE *.mat files\n",
    "import random\n",
    "from scipy.special import expit\n",
    "from scipy import optimize\n",
    "\n"
   ]
  },
  {
   "cell_type": "markdown",
   "metadata": {},
   "source": [
    "# 0. Neural Network from Exercise 3"
   ]
  },
  {
   "cell_type": "code",
   "execution_count": 2,
   "metadata": {},
   "outputs": [
    {
     "name": "stdout",
     "output_type": "stream",
     "text": [
      "(5000, 401)\n",
      "************************************\n",
      "(5000, 1)\n"
     ]
    },
    {
     "data": {
      "text/plain": [
       "array([0, 1, 2, 3, 4, 5, 6, 7, 8, 9], dtype=uint8)"
      ]
     },
     "execution_count": 2,
     "metadata": {},
     "output_type": "execute_result"
    }
   ],
   "source": [
    "data_ex1 = scipy.io.loadmat('/Users/deepanjal.gupta/Documents/Learning/Stanford Machine Learning- Andrew Ng/Week 4/machine-learning-ex3/ex3/ex3data1.mat')\n",
    "X =  data_ex1['X']\n",
    "#adding the x0 = 1 at the start of each row in the X.\n",
    "X = np.insert(X,0,1,axis=1)\n",
    "y =  data_ex1['y']\n",
    "#lables of 0 was 10 , so converting back to zero\n",
    "y [y [:] == 10] = 0\n",
    "\n",
    "\n",
    "#note:\n",
    "#X is a 2D array with 5000 pics, each pic rolled into one row (20*20 pixels)    \n",
    "#y is a 1D array with values from 1 to 10 (0 is labeled as 10)    \n",
    "\n",
    "print (X.shape)\n",
    "print('************************************')\n",
    "print (y.shape)\n",
    "np.unique(y)"
   ]
  },
  {
   "cell_type": "code",
   "execution_count": 3,
   "metadata": {},
   "outputs": [
    {
     "name": "stdout",
     "output_type": "stream",
     "text": [
      "Theta1 has shape: (25, 401)\n",
      "Theta2 has shape: (10, 26)\n"
     ]
    }
   ],
   "source": [
    "#we already had the model trained. we just comuted the  value of the output layer\n",
    "mat = scipy.io.loadmat( '/Users/deepanjal.gupta/Documents/Learning/Stanford Machine Learning- Andrew Ng/Week 4/machine-learning-ex3/ex3/ex3weights.mat' )\n",
    "Theta1, Theta2 = mat['Theta1'], mat['Theta2']\n",
    "print ('Theta1 has shape:',Theta1.shape)\n",
    "print ('Theta2 has shape:',Theta2.shape)"
   ]
  },
  {
   "cell_type": "code",
   "execution_count": 4,
   "metadata": {},
   "outputs": [],
   "source": [
    "def hypothesis(X, theta):\n",
    "    #hypothesis(X, theta)\n",
    "    return expit(np.dot(X,theta))"
   ]
  },
  {
   "cell_type": "markdown",
   "metadata": {},
   "source": [
    "### 0.2 Writing the code for the forward propagation from Exercise 3 "
   ]
  },
  {
   "cell_type": "code",
   "execution_count": 5,
   "metadata": {},
   "outputs": [],
   "source": [
    "a = np.zeros(Theta2.shape)\n",
    "a[0] = Theta2[9]\n",
    "a[1:10] = Theta2[0:9]\n",
    "Theta2 = a\n",
    "\n",
    "a2 = hypothesis(X, Theta1.T)\n",
    "a2= np.insert(a2,0,1,axis=1)\n",
    "a3 = hypothesis(a2, Theta2.T)\n",
    "hypothesis_output = pd.DataFrame(a3)"
   ]
  },
  {
   "cell_type": "code",
   "execution_count": 6,
   "metadata": {},
   "outputs": [],
   "source": [
    "all_classification = []\n",
    "for i in range(X.shape[0]):\n",
    "    all_classification.append(np.argmax(hypothesis_output.loc[i,[0,1,2,3,4,5,6,7,8,9]]))\n",
    "    \n",
    "    \n",
    "Answer= pd.DataFrame({'Output':y.flatten(),'Hypothesis':all_classification})"
   ]
  },
  {
   "cell_type": "code",
   "execution_count": 7,
   "metadata": {},
   "outputs": [
    {
     "data": {
      "text/plain": [
       "97.52"
      ]
     },
     "execution_count": 7,
     "metadata": {},
     "output_type": "execute_result"
    }
   ],
   "source": [
    "Answer[Answer['Hypothesis']==Answer['Output']].shape[0]/Answer.shape[0]*100"
   ]
  },
  {
   "cell_type": "markdown",
   "metadata": {},
   "source": [
    "# 1. Exercise 4 Neural Network "
   ]
  },
  {
   "cell_type": "markdown",
   "metadata": {},
   "source": [
    "### Defining X and y"
   ]
  },
  {
   "cell_type": "code",
   "execution_count": 8,
   "metadata": {},
   "outputs": [
    {
     "name": "stdout",
     "output_type": "stream",
     "text": [
      "(5000, 401)\n",
      "************************************\n",
      "(5000, 1)\n"
     ]
    },
    {
     "data": {
      "text/plain": [
       "array([0, 1, 2, 3, 4, 5, 6, 7, 8, 9], dtype=uint8)"
      ]
     },
     "execution_count": 8,
     "metadata": {},
     "output_type": "execute_result"
    }
   ],
   "source": [
    "data_ex1 = scipy.io.loadmat('/Users/deepanjal.gupta/Documents/Learning/Stanford Machine Learning- Andrew Ng/Week 5/machine-learning-ex4/ex4/ex4data1.mat')\n",
    "\n",
    "X =  data_ex1['X']\n",
    "#adding the x0 = 1 at the start of each row in the X.\n",
    "X = np.insert(X,0,1,axis=1)\n",
    "y =  data_ex1['y']\n",
    "#lables of 0 was 10 , so converting back to zero\n",
    "y [y [:] == 10] = 0\n",
    "\n",
    "\n",
    "#note:\n",
    "#X is a 2D array with 5000 pics, each pic rolled into one row (20*20 pixels) + 1 for the x0 or the bias unit at the first layer\n",
    "#y is a 1D array with values from 1 to 10 (0 is labeled as 10)    \n",
    "\n",
    "#for input into the cost function as a 1D Array\n",
    "\n",
    "\n",
    "X_flat= X.flatten()\n",
    "y_training = np.zeros((5000,10))\n",
    "for i in range(5000):\n",
    "    y_training[i][y[i]] = 1\n",
    "\n",
    "print (X.shape)\n",
    "print('************************************')\n",
    "print (y.shape)\n",
    "np.unique(y)"
   ]
  },
  {
   "cell_type": "markdown",
   "metadata": {},
   "source": [
    "### Defining the Theta (here is the ones already trained)"
   ]
  },
  {
   "cell_type": "code",
   "execution_count": 9,
   "metadata": {},
   "outputs": [
    {
     "name": "stdout",
     "output_type": "stream",
     "text": [
      "Theta1 has shape: (401, 25)\n",
      "Theta2 has shape: (26, 10)\n"
     ]
    }
   ],
   "source": [
    "mat = scipy.io.loadmat( '/Users/deepanjal.gupta/Documents/Learning/Stanford Machine Learning- Andrew Ng/Week 5/machine-learning-ex4/ex4/ex4weights.mat')\n",
    "#mat = scipy.io.loadmat( '/Users/deepanjal.gupta/Documents/Learning/Stanford Machine Learning- Andrew Ng/Week 4/machine-learning-ex3/ex3/ex3weights.mat' )\n",
    "Theta1, Theta2 = mat['Theta1'], mat['Theta2']\n",
    "\n",
    "a = np.zeros(Theta2.shape)\n",
    "a[0] = Theta2[9]\n",
    "a[1:10] = Theta2[0:9]\n",
    "Theta2 = a\n",
    "\n",
    "Theta1 = Theta1.T\n",
    "Theta2 = Theta2.T\n",
    "\n",
    "Theta = [Theta1,Theta2]\n",
    "print ('Theta1 has shape:',Theta1.shape)\n",
    "print ('Theta2 has shape:',Theta2.shape)\n",
    "\n"
   ]
  },
  {
   "cell_type": "markdown",
   "metadata": {},
   "source": [
    "### Defining the misc parameters of the model"
   ]
  },
  {
   "cell_type": "code",
   "execution_count": 10,
   "metadata": {},
   "outputs": [
    {
     "name": "stdout",
     "output_type": "stream",
     "text": [
      "(5000, 401)\n",
      "(5000, 1)\n",
      "(401, 25)\n",
      "(26, 10)\n"
     ]
    }
   ],
   "source": [
    "output_layer = 10\n",
    "input_layer = 400\n",
    "number_of_layers = 3\n",
    "hidden_layer = 25\n",
    "m = 5000\n",
    "mylambda = 0\n",
    "\n",
    "print(X.shape)\n",
    "print(y.shape)\n",
    "print(Theta1.shape)\n",
    "print(Theta2.shape)"
   ]
  },
  {
   "cell_type": "code",
   "execution_count": 11,
   "metadata": {
    "scrolled": true
   },
   "outputs": [
    {
     "data": {
      "image/png": "[encoded data removed]",
      "text/plain": [
       "<matplotlib.figure.Figure at 0x10c0f9470>"
      ]
     },
     "metadata": {},
     "output_type": "display_data"
    }
   ],
   "source": [
    "def array_20x20(row_num,X):\n",
    "    #function to stich the one number into a 20*20 array based on the row number in the X \n",
    "    height = 20\n",
    "    width = 20\n",
    "    \n",
    "    return X[row_num,1:].reshape(height,width).T\n",
    "\n",
    "def stiched_image_mxn (m,n,X):\n",
    "    #function to stich m*n random images together and display them. returns the rownumber array selected randomly\n",
    "    #and the y of the seleced images in m*n array.\n",
    "    #a, b = stiched_image_mxn (5,5,X)\n",
    "    rows_to_show = np.reshape(random.sample(range(5000),m*n),(m,n))\n",
    "    \n",
    "    stiched_image = np.ones((m*20,n*20))\n",
    "    stiched_y = np.ones((m,n))\n",
    "    \n",
    "    for i in range(m):\n",
    "        for j in range(n):\n",
    "            row_num = rows_to_show[i][j]\n",
    "            stiched_image[i*20:((i+1)*20),j*20:((j+1)*20)] = array_20x20(row_num,X)\n",
    "            stiched_y[i][j] = y[rows_to_show[i][j]][0]\n",
    "            \n",
    "    plt.figure(figsize = (5,5))\n",
    "    plt.imshow(stiched_image)\n",
    "    \n",
    "    return rows_to_show, stiched_y\n",
    "\n",
    "rows_to_show,stiched_y= stiched_image_mxn (5,5,X)"
   ]
  },
  {
   "cell_type": "code",
   "execution_count": 12,
   "metadata": {},
   "outputs": [],
   "source": [
    "def unflatten_X(X_flat,m,input_layer):\n",
    "    \"\"\"\n",
    "    Reurns X_flat\n",
    "    Unflatten the input features to the m*(input_layer+1) size\n",
    "    \"\"\"\n",
    "    \n",
    "    output = X_flat.reshape((m,(input_layer+1)))\n",
    "    return output\n",
    "\n",
    "def flatten_Theta(Theta,number_of_layers):\n",
    "    \"\"\"\n",
    "    Returns Theta_flat\n",
    "    Flatten the input Theta list  to 1d Size\n",
    "    \"\"\"    \n",
    "    intermediate= []\n",
    "    output =  np.empty(1,)\n",
    "    for i in range(number_of_layers-1):\n",
    "        intermediate.append(1)\n",
    "        intermediate[i] = Theta[i].flatten()\n",
    "    \n",
    "    for i in range(number_of_layers-1):\n",
    "        output = np.concatenate((output,intermediate[i]))\n",
    "    \n",
    "    output = output[1:]\n",
    "    return output\n",
    "\n",
    "def unflatten_Theta(Theta_flat,number_of_layers):\n",
    "    \n",
    "\n",
    "    intermediate= []\n",
    "    for i in range(number_of_layers-1):\n",
    "        intermediate.append(1)\n",
    "    \n",
    "    a = Theta[0].shape[0]*Theta[0].shape[1]\n",
    "    b = Theta[1].shape[0]*Theta[1].shape[1]   \n",
    "    \n",
    "    intermediate[0] = Theta_flat[0:a].reshape((401, 25))\n",
    "    intermediate[1] = Theta_flat[a:].reshape((26, 10))\n",
    "    \n",
    "    return intermediate\n"
   ]
  },
  {
   "cell_type": "code",
   "execution_count": 13,
   "metadata": {},
   "outputs": [],
   "source": [
    "\n",
    "\n",
    "def hypothesis_nn(Theta,X,number_of_layers,input_layer,output_layer,m):\n",
    "    \"\"\"\n",
    "    1.Theta as the list of the two or more thetas.Shape is like (j,(i+1)) for each of the two or more thetas concerned. \n",
    "    2.X is the feature list of kind (m , (s1+1)) [s1 = number of input units] \n",
    "    3.number of layers in the network. (integer)\n",
    "    4.no of categories in the input (integer)\n",
    "    5.no of categories in the output (integer)\n",
    "    6.no of training examples \n",
    "    \n",
    "    returns an array of shape (m,output_layer_units)\n",
    "    \n",
    "    \"\"\"\n",
    "    if (m == 1):\n",
    "        X = X.reshape((1,401))\n",
    "    \n",
    "    \n",
    "    layers_var = {}\n",
    "    theta_var  = {}\n",
    "    layers_for_loop = {}\n",
    "    \n",
    "    \n",
    "    #layers_var\n",
    "    for i in range(1,number_of_layers):\n",
    "        layers_var['a'+str(i+1)] = ''\n",
    "        \n",
    "    #theta_var\n",
    "    for i in range(number_of_layers-1):\n",
    "        theta_var['Theta'+str(i+1)] = Theta[i]\n",
    "        \n",
    "    iterative_list = list(layers_var.keys())[:]\n",
    "    iterative_list.pop()\n",
    "    iterative_list = ['X'] + iterative_list\n",
    "    \n",
    "    for i in iterative_list:\n",
    "        layers_for_loop[i] = ''\n",
    "    \n",
    "    layers_for_loop['X'] = X\n",
    "    \n",
    "    #print(layers_var.keys())\n",
    "    #print(theta_var.keys())\n",
    "    #print(layers_for_loop.keys())\n",
    "    \n",
    "    \n",
    "    old_i = False\n",
    "    for i,j,k in zip(layers_var.keys(),theta_var.keys(),layers_for_loop.keys()):\n",
    "            if (old_i != False):\n",
    "                layers_for_loop[k] = layers_var[old_i]\n",
    "                \n",
    "            layers_var [i ] =  hypothesis(layers_for_loop[k], theta_var[j])\n",
    "            if (i != list(layers_var.keys())[::].pop()):\n",
    "                layers_var [i ] = np.insert(layers_var [i ],0,1,axis=1)\n",
    "            old_i = i\n",
    "            \n",
    "    last_layer_to_display = list(layers_var.keys())[:].pop()\n",
    "    hypothesis_output = pd.DataFrame(layers_var[last_layer_to_display])\n",
    "    \n",
    "    ##Use the below code if you want the max output as 1 and rest as the 0 for the given array\n",
    "    \n",
    "    #hypothesis_output_columns = list(range(output_layer))\n",
    "    #new_column_values = list(np.zeros(output_layer))\n",
    "    #\n",
    "    #for i in range(X.shape[0]):\n",
    "    #    #print(all_classification[i],' ',hypothesis_output.loc[i,all_classification[i]])\n",
    "    #    hypothesis_output.loc[i,hypothesis_output_columns] = new_column_values\n",
    "    #    hypothesis_output.loc[i,all_classification[i]] = 1\n",
    "    \n",
    "    return np.array(hypothesis_output),layers_var\n",
    "\n",
    "\n",
    "def computeCost(Theta_flat):\n",
    "    \"\"\"\n",
    "    1.Theta as the flattend Theta, we will change it \n",
    "      as the list of the two or more thetas.Shape is like (j,(i+1)) \n",
    "      for each of the two or more thetas concerned. \n",
    "    2.X as a flattend 1d- array, we will reshape it to (m , (s1+1)) [s1 = number of input units]  inside.\n",
    "    3.number of layers in the network. (integer)\n",
    "    4.no of categories in the input. (integer)\n",
    "    5.no of categories in the output. (integer)\n",
    "    6.No of training examples\n",
    "    7.Value of the regulariztaion parameter\n",
    "    \n",
    "    returns the cost of the NN as a number \n",
    "    \"\"\"\n",
    "    Theta = unflatten_Theta(Theta_flat,number_of_layers)\n",
    "    X = unflatten_X(X_flat,m,input_layer)\n",
    "    \n",
    "    \n",
    "    result_master,layers_var = hypothesis_nn(Theta,X,number_of_layers,input_layer,output_layer,m)\n",
    "    training_y_master = np.zeros(result_master.shape)\n",
    "    \n",
    "    for i in range(m):\n",
    "        a = int(y[i])\n",
    "        training_y_master [i][a] = 1\n",
    "    \n",
    "    sum_cost = 0 \n",
    "    for i in range(output_layer):\n",
    "        result  = result_master[:,i]\n",
    "        training_y = training_y_master[:,i]    \n",
    "        \n",
    "        term1 = np.sum(np.dot(training_y.T,np.log( result ) ))\n",
    "        term2 = np.sum(np.dot(( 1.0 - training_y.T ),np.log( 1.0 - result )))\n",
    "        \n",
    "        sum_cost += -(term1 + term2) / m\n",
    "    \n",
    "    sum_theta_squared = 0\n",
    "    \n",
    "    for i in range(len(Theta)):\n",
    "        sum_theta_squared = sum_theta_squared  + np.sum(np.square(Theta[i][1:]))    \n",
    "    \n",
    "    \n",
    "    return sum_cost + sum_theta_squared*(mylambda/(2*m))\n",
    "\n",
    "\n",
    "\n",
    "def random_theta():\n",
    "    Theta = [1,1]\n",
    "    Theta[0] = np.random.randn(401,25)*2*0.12 - 0.12\n",
    "    Theta[1] = np.random.randn(26,10)*2*0.12 - 0.12\n",
    "\n",
    "    return Theta\n",
    "\n",
    "def cost_gradient(Theta_flat):\n",
    "    \n",
    "    \n",
    "    Theta = unflatten_Theta(Theta_flat,number_of_layers)\n",
    "    \n",
    "    Delta2 = np.zeros((25,401))\n",
    "    Delta3 = np.zeros((10,26))\n",
    "        \n",
    "        \n",
    "    for i in range(m):\n",
    "        Del3 = hypothesis_nn(Theta,X[i],number_of_layers,input_layer,output_layer,1)[1]['a3'].reshape((-1,)) - y_training[i]\n",
    "        a2 =   hypothesis_nn(Theta,X[i],number_of_layers,input_layer,output_layer,1)[1]['a2'].reshape((-1,))\n",
    "        Del2 = np.dot(Theta[1][1:],Del3)*(a2*(1-a2))[1:]\n",
    "        Del3= Del3.reshape((-1,1))\n",
    "        Del2 =Del2.reshape((-1,1))\n",
    "        a2 = a2.reshape((-1,1))\n",
    "        a1 = X[i].reshape((-1,1))\n",
    "        \n",
    "        Delta3 += np.dot(Del3,a2.T)/float(m)\n",
    "        Delta2 += np.dot(Del2,a1.T)/float(m)\n",
    "        \n",
    "    Delta2 = Delta2.T\n",
    "    Delta3 = Delta3.T\n",
    "    Delta = [Delta2,Delta3]\n",
    "            \n",
    "    return flatten_Theta(Delta,3) "
   ]
  },
  {
   "cell_type": "code",
   "execution_count": 14,
   "metadata": {},
   "outputs": [
    {
     "name": "stdout",
     "output_type": "stream",
     "text": [
      "0.287629165161\n"
     ]
    }
   ],
   "source": [
    "Theta_flat = flatten_Theta(Theta,3)\n",
    "print(computeCost(Theta_flat))"
   ]
  },
  {
   "cell_type": "code",
   "execution_count": 16,
   "metadata": {},
   "outputs": [
    {
     "name": "stdout",
     "output_type": "stream",
     "text": [
      "CPU times: user 3 µs, sys: 1 µs, total: 4 µs\n",
      "Wall time: 8.11 µs\n",
      "Warning: Maximum number of iterations has been exceeded.\n",
      "         Current function value: 0.066335\n",
      "         Iterations: 200\n",
      "         Function evaluations: 473\n",
      "         Gradient evaluations: 473\n"
     ]
    }
   ],
   "source": [
    "%time\n",
    "start_theta = flatten_Theta(random_theta(),number_of_layers)\n",
    "result = optimize.fmin_cg(computeCost, x0=start_theta, fprime=cost_gradient,maxiter=200,disp=True,full_output=True)"
   ]
  },
  {
   "cell_type": "code",
   "execution_count": 30,
   "metadata": {},
   "outputs": [
    {
     "data": {
      "text/plain": [
       "99.46000000000001"
      ]
     },
     "execution_count": 30,
     "metadata": {},
     "output_type": "execute_result"
    }
   ],
   "source": [
    "new_theta = unflatten_Theta(result[0],3)\n",
    "hypo_back = pd.DataFrame(hypothesis_nn(new_theta,X,number_of_layers,input_layer,output_layer,m)[0])\n",
    "all_classification = []\n",
    "for i in range(X.shape[0]):\n",
    "    all_classification.append(np.argmax(hypo_back.loc[i,[0,1,2,3,4,5,6,7,8,9]]))\n",
    "Answer= pd.DataFrame({'Output':y.flatten(),'Hypothesis':all_classification})\n",
    "Answer[Answer['Hypothesis']==Answer['Output']].shape[0]/Answer.shape[0]*100\n",
    "#finally got the answer"
   ]
  },
  {
   "cell_type": "code",
   "execution_count": null,
   "metadata": {},
   "outputs": [],
   "source": []
  }
 ],
 "metadata": {
  "kernelspec": {
   "display_name": "Python 3",
   "language": "python",
   "name": "python3"
  },
  "language_info": {
   "codemirror_mode": {
    "name": "ipython",
    "version": 3
   },
   "file_extension": ".py",
   "mimetype": "text/x-python",
   "name": "python",
   "nbconvert_exporter": "python",
   "pygments_lexer": "ipython3",
   "version": "3.6.1"
  }
 },
 "nbformat": 4,
 "nbformat_minor": 2
}
